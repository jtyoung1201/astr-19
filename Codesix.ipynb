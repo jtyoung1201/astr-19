{
 "cells": [
  {
   "cell_type": "markdown",
   "id": "ff8081e0-1514-4473-8da1-eb1d557a873a",
   "metadata": {},
   "source": [
    "The next two lines will return the sine and cosine values of a given radian. "
   ]
  },
  {
   "cell_type": "code",
   "execution_count": 1,
   "id": "3875ea69-4a68-4bd9-9823-6fb9b927d0fc",
   "metadata": {},
   "outputs": [],
   "source": [
    "import math\n",
    "\n",
    "def my_sin(x):\n",
    "\n",
    "    return math.sin(x)"
   ]
  },
  {
   "cell_type": "code",
   "execution_count": 2,
   "id": "c95edd29-2217-4d02-b4f1-00137cdc3a98",
   "metadata": {},
   "outputs": [],
   "source": [
    "def my_cos(x):\n",
    "    \n",
    "    return math.cos(x)"
   ]
  },
  {
   "cell_type": "markdown",
   "id": "a47b0027-585b-49df-9f8e-5d4107b4e0c2",
   "metadata": {},
   "source": [
    "This line uses numpy to compute the x values and their corresponding sine and cosine values"
   ]
  },
  {
   "cell_type": "code",
   "execution_count": 3,
   "id": "b715fa3d-5df4-43e7-a8d8-aaf1f6d264b2",
   "metadata": {},
   "outputs": [],
   "source": [
    "import numpy as np\n",
    "\n",
    "x_values = np.linspace(0, 2 * math.pi, 1000)\n",
    "\n",
    "sin_values = [my_sin(x) for x in x_values]\n",
    "cos_values = [my_cos(x) for x in x_values]"
   ]
  },
  {
   "cell_type": "markdown",
   "id": "294cc722-41a6-4553-b002-3b6761eace2a",
   "metadata": {},
   "source": [
    "These lines generate the table and give the formatting for the table"
   ]
  },
  {
   "cell_type": "code",
   "execution_count": 4,
   "id": "53db3b1d-bee5-4d37-8412-40a3c1b36a60",
   "metadata": {},
   "outputs": [
    {
     "name": "stdout",
     "output_type": "stream",
     "text": [
      "         x          sin(x)          cos(x)\n",
      "----------------------------------------\n",
      "  0.000000        0.000000        1.000000\n",
      "  0.006289        0.006289        0.999980\n",
      "  0.012579        0.012579        0.999921\n",
      "  0.018868        0.018867        0.999822\n",
      "  0.025158        0.025155        0.999684\n",
      "  0.031447        0.031442        0.999506\n",
      "  0.037737        0.037728        0.999288\n",
      "  0.044026        0.044012        0.999031\n",
      "  0.050316        0.050295        0.998734\n",
      "  0.056605        0.056575        0.998398\n"
     ]
    }
   ],
   "source": [
    "print(f\"{'x':>10} {'sin(x)':>15} {'cos(x)':>15}\")\n",
    "print(\"-\" * 40)\n",
    "\n",
    "for i in range(10):\n",
    "    print(f\"{x_values[i]:10.6f} {sin_values[i]:15.6f} {cos_values[i]:15.6f}\")"
   ]
  },
  {
   "cell_type": "code",
   "execution_count": null,
   "id": "465a6abf-77ff-42e7-b6f6-5bfac3afe68b",
   "metadata": {},
   "outputs": [],
   "source": []
  }
 ],
 "metadata": {
  "kernelspec": {
   "display_name": "Python 3 (ipykernel)",
   "language": "python",
   "name": "python3"
  },
  "language_info": {
   "codemirror_mode": {
    "name": "ipython",
    "version": 3
   },
   "file_extension": ".py",
   "mimetype": "text/x-python",
   "name": "python",
   "nbconvert_exporter": "python",
   "pygments_lexer": "ipython3",
   "version": "3.10.4"
  }
 },
 "nbformat": 4,
 "nbformat_minor": 5
}
